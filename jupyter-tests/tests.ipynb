{
 "cells": [
  {
   "cell_type": "code",
   "execution_count": 5,
   "metadata": {},
   "outputs": [],
   "source": [
    "import os, numpy, json\n",
    "from itertools import zip_longest\n",
    "from pathlib import Path\n",
    "import matplotlib.pyplot as plt\n",
    "\n",
    "def chunk2(items): \n",
    "    return zip_longest(*[iter(items)]*2)\n",
    "\n",
    "notebook_path = Path(os.path.abspath(\"tests.ipynb\")).parent.absolute()\n",
    "results = chunk2(filter(lambda fn: fn.endswith(\".json\"), sorted(os.listdir(notebook_path))))\n",
    "\n",
    "def load_data(fn):\n",
    "    \"\"\"\n",
    "    loads chart data from a JSON file. Adds a percentage of the last element \n",
    "    to each value so that we can actually see several charts overlaid on top of one another.\n",
    "    \"\"\"\n",
    "    with open(fn, 'rb') as fh:\n",
    "        data = json.load(fh)\n",
    "        data = [float(n) for n in data]\n",
    "        return data\n",
    "for pair in results:\n",
    "    x_range = numpy.arange(0.1, 1.1, 0.1)\n",
    "    file_is = pair[0]\n",
    "    file_ought = pair[1]\n",
    "    a = load_data(file_is)\n",
    "    b = load_data(file_ought)\n",
    "    plt.plot(x_range, a, color=\"r\", label=file_is.replace(\".json\", \"\"))\n",
    "    plt.plot(x_range, b, color=\"b\", linestyle='dotted', label=file_ought.replace(\".json\", \"\"))\n",
    "    plt.legend()\n",
    "    plt.show()"
   ]
  }
 ],
 "metadata": {
  "kernelspec": {
   "display_name": "python-3.13",
   "language": "python",
   "name": "python3"
  },
  "language_info": {
   "codemirror_mode": {
    "name": "ipython",
    "version": 3
   },
   "file_extension": ".py",
   "mimetype": "text/x-python",
   "name": "python",
   "nbconvert_exporter": "python",
   "pygments_lexer": "ipython3",
   "version": "3.13.0"
  }
 },
 "nbformat": 4,
 "nbformat_minor": 2
}
